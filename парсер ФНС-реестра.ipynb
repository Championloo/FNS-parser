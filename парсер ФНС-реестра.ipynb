{
 "cells": [
  {
   "cell_type": "code",
   "execution_count": null,
   "id": "7960680a",
   "metadata": {},
   "outputs": [],
   "source": [
    "# -*- coding: utf-8 -*-\n",
    "import xmltodict\n",
    "import json\n",
    "import os\n",
    "import sqlite3"
   ]
  },
  {
   "cell_type": "code",
   "execution_count": null,
   "id": "a3787e4c",
   "metadata": {},
   "outputs": [],
   "source": [
    "con = sqlite3.connect(\"fns.db\", check_same_thread=False)\n",
    "cursor = con.cursor()\n",
    "path = 'путь до разархивированной папки с xml-документами'\n",
    "\n",
    "for file in os.listdir(path):\n",
    "    with open(f'{path}/{file}', 'r') as f:\n",
    "        a = f.read()\n",
    "        xml = xmltodict.parse(a)\n",
    "        xml_dict = json.loads(json.dumps(xml))['Файл']['Документ']\n",
    "        try:\n",
    "            for i in xml_dict:\n",
    "                inn = i['СведНП']['@ИННЮЛ'].replace(\"\\'\", \"'\")\n",
    "                org_name = i['СведНП']['@НаимОрг']\n",
    "                date = i['@ДатаСост']\n",
    "                try:\n",
    "                    for j in i['СвУплСумНал']:\n",
    "                        tax_name = j['@НаимНалог']\n",
    "                        tax_amount = j['@СумУплНал']\n",
    "                        #print(inn, org_name, tax_name, tax_amount)\n",
    "                        cursor.execute(f\"\"\"INSERT INTO taxes (inn, org_name, tax_name, tax_amount, datetime) \n",
    "                                           VALUES (?,?,?,?,?)\"\"\", (inn, org_name, tax_name, tax_amount, date))\n",
    "                        con.commit()\n",
    "                except: \n",
    "                    tax_name = i['СвУплСумНал']['@НаимНалог']\n",
    "                    tax_amount = i['СвУплСумНал']['@СумУплНал']\n",
    "                    cursor.execute(f\"\"\"INSERT INTO taxes (inn, org_name, tax_name, tax_amount, datetime) \n",
    "                                       VALUES (?,?,?,?,?)\"\"\", (inn, org_name, tax_name, tax_amount, date))\n",
    "                    con.commit()\n",
    "        except:\n",
    "            try:\n",
    "                inn = xml_dict['СведНП']['@ИННЮЛ'].replace(\"\\'\", \"'\")\n",
    "                org_name = xml_dict['СведНП']['@НаимОрг']\n",
    "                date = xml_dict['@ДатаСост']\n",
    "                try:\n",
    "                    for j in xml_dict['СвУплСумНал']:\n",
    "                        tax_name = j['@НаимНалог']\n",
    "                        tax_amount = j['@СумУплНал']\n",
    "                        cursor.execute(f\"\"\"INSERT INTO taxes (inn, org_name, tax_name, tax_amount, datetime) \n",
    "                                           VALUES (?,?,?,?,?)\"\"\", (inn, org_name, tax_name, tax_amount, date))\n",
    "                        con.commit()\n",
    "                except: \n",
    "                    tax_name = xml_dict['СвУплСумНал']['@НаимНалог']\n",
    "                    tax_amount = xml_dict['СвУплСумНал']['@СумУплНал']\n",
    "                    cursor.execute(f\"\"\"INSERT INTO taxes (inn, org_name, tax_name, tax_amount, datetime) \n",
    "                                       VALUES (?,?,?,?,?)\"\"\", (inn, org_name, tax_name, tax_amount, date))\n",
    "                    con.commit()\n",
    "            except:\n",
    "                print(file)\n",
    "                print(inn)\n",
    "                print(xml_dict[i])"
   ]
  }
 ],
 "metadata": {
  "kernelspec": {
   "display_name": "Python 3",
   "language": "python",
   "name": "python3"
  },
  "language_info": {
   "codemirror_mode": {
    "name": "ipython",
    "version": 3
   },
   "file_extension": ".py",
   "mimetype": "text/x-python",
   "name": "python",
   "nbconvert_exporter": "python",
   "pygments_lexer": "ipython3",
   "version": "3.7.8"
  }
 },
 "nbformat": 4,
 "nbformat_minor": 5
}
